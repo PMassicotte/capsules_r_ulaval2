{
  "cells": [
    {
      "cell_type": "raw",
      "metadata": {},
      "source": [
        "---\n",
        "title: Capsule 1\n",
        "---"
      ],
      "id": "2b611d49"
    },
    {
      "cell_type": "markdown",
      "metadata": {},
      "source": [
        "## sdfsdf\n",
        "\n",
        "{{< include ../_extensions/r-wasm/live/_knitr.qmd >}}\n",
        "\n",
        "```{webr}\n",
        "for (x in 1:5) {\n",
        "  print(x**2)\n",
        "}\n",
        "```\n",
        "\n",
        "```{webr}\n",
        "#| autorun: false\n",
        "for (x in 1:5) {\n",
        "  print(x**3)\n",
        "}\n",
        "```\n",
        "\n",
        "{{< fa brands github >}} https://github.com/PMassicotte\n",
        "\n",
        "{{< fa envelope >}} philippe.massicotte@takuvik.ulaval.ca\n",
        "\n",
        "{{< fa brands twitter >}} @philmassicotte\n",
        "\n",
        "{{< fa brands mastodon >}} https://fosstodon.org/@philmassicotte\n",
        "\n",
        "{{< fa blog >}} www.pmassicotte.com\n",
        "\n",
        "::: {.callout-note title=\"Backups\"}\n",
        "\n",
        "Backup is a copy of data created to restore said data in case of damage or loss. **The original data is not deleted after a backup is made**.\n",
        "\n",
        ":::\n",
        "\n",
        "::: {.callout-note title=\"Archives\"}\n",
        "An archive is a copy of data created for reference purposes. **Although not required, the original is often deleted after an archive is made.**\n",
        "\n",
        ":::"
      ],
      "id": "b170c8ef"
    }
  ],
  "metadata": {
    "kernelspec": {
      "name": "python3",
      "language": "python",
      "display_name": "Python 3 (ipykernel)"
    }
  },
  "nbformat": 4,
  "nbformat_minor": 5
}